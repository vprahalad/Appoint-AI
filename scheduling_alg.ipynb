{
 "cells": [
  {
   "cell_type": "code",
   "execution_count": 9,
   "metadata": {},
   "outputs": [
    {
     "name": "stdout",
     "output_type": "stream",
     "text": [
      "Patient 125 (Urgency: 5) -> Scheduled: 2024-09-30 09:00\n",
      "Patient 124 (Urgency: 5) -> Scheduled: 2024-09-30 09:30\n",
      "Patient 127 (Urgency: 5) -> Scheduled: 2024-09-30 10:00\n",
      "Patient 120 (Urgency: 5) -> Scheduled: 2024-09-30 10:30\n",
      "Patient 121 (Urgency: 5) -> Scheduled: 2024-09-30 11:00\n",
      "Patient 123 (Urgency: 2) -> Scheduled: 2024-09-30 11:30\n",
      "Patient 126 (Urgency: 1) -> Scheduled: 2024-09-30 2:00\n"
     ]
    }
   ],
   "source": [
    "# to schedule earliest possible appts based on urgency \n\n",
    "import pandas as pd\n",
    "\n",
    "def schedule_appointments(patients, available_appointments):\n",
    "    # Sort patients by urgency score in descending order\n",
    "    patients = sorted(patients, key=lambda x: x[\"urgency_score\"], reverse=True)\n",
    "    \n",
    "    # schedule to earliest available appointment\n",
    "    for patient in patients:\n",
    "        if available_appointments:\n",
    "            patient[\"scheduled_appt\"] = available_appointments.pop(0)\n",
    "        else:\n",
    "            # if slots are filled, print error message\n",
    "            print(f\"Patient {patient['patient_ID']} with urgency {patient['urgency_score']} couldn't be scheduled.\")\n",
    "\n",
    "    return patients\n",
    "\n",
    "def main():\n",
    "\n",
    "    df = pd.read_csv('test_data.csv', usecols=['patient_ID', 'urgency_score'])\n",
    "    patients = df.to_dict(orient='records')\n",
    "\n",
    "    # all patients have no appt to begin with\n",
    "    for patient in patients:\n",
    "        patient['scheduled_appt'] = None\n",
    "\n",
    "    available_appointments = [\n",
    "        \"2024-09-30 09:00\",\n",
    "        \"2024-09-30 09:30\",\n",
    "        \"2024-09-30 10:00\",\n",
    "        \"2024-09-30 10:30\",\n",
    "        \"2024-09-30 11:00\",\n",
    "        \"2024-09-30 11:30\",\n",
    "        \"2024-09-30 2:00\",\n",
    "        \"2024-09-30 2:30\"\n",
    "    ]\n",
    "\n",
    "    scheduled_patients = schedule_appointments(patients, available_appointments)\n",
    "\n",
    "    # print patient IDs, urgency, and scheduled appt\n",
    "    for patient in scheduled_patients:\n",
    "        print(f\"Patient {patient['patient_ID']} (Urgency: {patient['urgency_score']}) -> Scheduled: {patient['scheduled_appt']}\")  \n",
    "\n",
    "\n",
    "if __name__ == \"__main__\":\n",
    "    main()\n",
    "\n"
   ]
  }
 ],
 "metadata": {
  "kernelspec": {
   "display_name": "Python 3",
   "language": "python",
   "name": "python3"
  },
  "language_info": {
   "codemirror_mode": {
    "name": "ipython",
    "version": 3
   },
   "file_extension": ".py",
   "mimetype": "text/x-python",
   "name": "python",
   "nbconvert_exporter": "python",
   "pygments_lexer": "ipython3",
   "version": "3.10.4"
  }
 },
 "nbformat": 4,
 "nbformat_minor": 2
}
